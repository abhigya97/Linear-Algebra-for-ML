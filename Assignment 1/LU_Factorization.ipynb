{
 "cells": [
  {
   "cell_type": "code",
   "execution_count": 1,
   "metadata": {},
   "outputs": [],
   "source": [
    "import numpy as np\n",
    "import scipy.io as sc\n",
    "from scipy.linalg import lu_factor, lu_solve\n",
    "from scipy.sparse import csc_matrix, linalg as sla"
   ]
  },
  {
   "cell_type": "markdown",
   "metadata": {},
   "source": [
    "# Loading dataset into matrix A"
   ]
  },
  {
   "cell_type": "code",
   "execution_count": 2,
   "metadata": {},
   "outputs": [],
   "source": [
    "mat_contents = sc.loadmat('ash85_data.mat') # ash85_data\n",
    "#sparse\n",
    "data = mat_contents['x']\n",
    "#dense\n",
    "A = data.toarray()"
   ]
  },
  {
   "cell_type": "markdown",
   "metadata": {},
   "source": [
    "# Defining vector b of all ones "
   ]
  },
  {
   "cell_type": "code",
   "execution_count": 3,
   "metadata": {},
   "outputs": [],
   "source": [
    "b = np.ones(A.shape[0])"
   ]
  },
  {
   "cell_type": "markdown",
   "metadata": {},
   "source": [
    "# Task 1: "
   ]
  },
  {
   "cell_type": "markdown",
   "metadata": {},
   "source": [
    "Solving Ax = b using LU factorisation "
   ]
  },
  {
   "cell_type": "markdown",
   "metadata": {},
   "source": [
    "Factorising A into lower and upper triangle matrices L and U"
   ]
  },
  {
   "cell_type": "code",
   "execution_count": 4,
   "metadata": {},
   "outputs": [
    {
     "name": "stdout",
     "output_type": "stream",
     "text": [
      "Solving for x:  [ 0.75216479  0.3912359  -0.44870113  2.89228549  0.79847809 -0.46129625\n",
      " -2.19273157  2.51062713 -0.37050643 -1.83482026  0.37050643 -0.77774862\n",
      " -0.57504592  3.0467069  -0.15927578 -2.49619522  0.93217003  2.40540541\n",
      "  0.34977696 -2.82222514  3.91301496 -0.37050643 -1.91301496 -0.22225138\n",
      "  3.03896615 -2.46693781 -0.44056678  1.87811598 -4.20939386  0.43426922\n",
      "  4.0930202   3.4850433  -3.66845972 -3.26279192  3.83888743  0.64615586\n",
      " -0.42784046  2.6725269   1.01666229 -1.45722907  7.11414327  0.08593545\n",
      "  1.12122802  1.60614012  0.43020205  0.63697192 -0.30057728 -1.92311729\n",
      " -3.49829441  1.86945684 -3.10561532 -1.17108371 -0.33140908  1.04119654\n",
      " -1.04119654 -0.70978746 -2.51259512 -0.30070848  3.08895303  1.22382577\n",
      "  3.29113094 -0.09826817  1.34977696  3.31868276 -0.22225138 -2.6725269\n",
      " -2.61663605  5.07386513 -1.45722907 -3.68918919 -1.9843873   0.93072684\n",
      "  0.09826817 -1.98569929 -1.20716347  4.19286277  1.30543165 -4.49829441\n",
      " -3.19286277  2.31107321  1.60614012  0.43505642 -0.33140908  2.64733666\n",
      " -0.27473104]\n"
     ]
    }
   ],
   "source": [
    "#Dense\n",
    "LU = lu_factor(A)\n",
    "x1 = lu_solve(LU,b)\n",
    "print(\"Solving for x: \", x1)"
   ]
  },
  {
   "cell_type": "code",
   "execution_count": 5,
   "metadata": {},
   "outputs": [
    {
     "name": "stdout",
     "output_type": "stream",
     "text": [
      "Solving for x:  [ 0.75216479  0.3912359  -0.44870113  2.89228549  0.79847809 -0.46129625\n",
      " -2.19273157  2.51062713 -0.37050643 -1.83482026  0.37050643 -0.77774862\n",
      " -0.57504592  3.0467069  -0.15927578 -2.49619522  0.93217003  2.40540541\n",
      "  0.34977696 -2.82222514  3.91301496 -0.37050643 -1.91301496 -0.22225138\n",
      "  3.03896615 -2.46693781 -0.44056678  1.87811598 -4.20939386  0.43426922\n",
      "  4.0930202   3.4850433  -3.66845972 -3.26279192  3.83888743  0.64615586\n",
      " -0.42784046  2.6725269   1.01666229 -1.45722907  7.11414327  0.08593545\n",
      "  1.12122802  1.60614012  0.43020205  0.63697192 -0.30057728 -1.92311729\n",
      " -3.49829441  1.86945684 -3.10561532 -1.17108371 -0.33140908  1.04119654\n",
      " -1.04119654 -0.70978746 -2.51259512 -0.30070848  3.08895303  1.22382577\n",
      "  3.29113094 -0.09826817  1.34977696  3.31868276 -0.22225138 -2.6725269\n",
      " -2.61663605  5.07386513 -1.45722907 -3.68918919 -1.9843873   0.93072684\n",
      "  0.09826817 -1.98569929 -1.20716347  4.19286277  1.30543165 -4.49829441\n",
      " -3.19286277  2.31107321  1.60614012  0.43505642 -0.33140908  2.64733666\n",
      " -0.27473104]\n"
     ]
    }
   ],
   "source": [
    "#Sparse\n",
    "lu = sla.splu(data)\n",
    "x2 = lu.solve(b)\n",
    "print(\"Solving for x: \", x2)"
   ]
  },
  {
   "cell_type": "markdown",
   "metadata": {},
   "source": [
    "# Task 2:"
   ]
  },
  {
   "cell_type": "markdown",
   "metadata": {},
   "source": [
    "Checking to see if solution is correct by Comparing values of Ax and btt to check if they are same using np.allclose."
   ]
  },
  {
   "cell_type": "code",
   "execution_count": 6,
   "metadata": {},
   "outputs": [
    {
     "data": {
      "text/plain": [
       "True"
      ]
     },
     "execution_count": 6,
     "metadata": {},
     "output_type": "execute_result"
    }
   ],
   "source": [
    "Ax1 = A.dot(x1)\n",
    "np.allclose(Ax1,b)"
   ]
  },
  {
   "cell_type": "code",
   "execution_count": 7,
   "metadata": {},
   "outputs": [
    {
     "data": {
      "text/plain": [
       "True"
      ]
     },
     "execution_count": 7,
     "metadata": {},
     "output_type": "execute_result"
    }
   ],
   "source": [
    "Ax2 = data.dot(x2)\n",
    "np.allclose(Ax2,b)"
   ]
  },
  {
   "cell_type": "markdown",
   "metadata": {},
   "source": [
    "# References : \n",
    "1. https://medium.com/italiandirectory-publishing/solving-linear-equations-using-matrices-and-python-4add7bdff329\n",
    "2. https://docs.scipy.org/doc/scipy/reference/generated/scipy.linalg.lu_solve.html\n",
    "3. https://stackoverflow.com/questions/5954603/transposing-a-numpy-array/36406142\n",
    "4. https://docs.scipy.org/doc/numpy/reference/generated/numpy.asarray.html\n",
    "5. https://docs.scipy.org/doc/scipy/reference/generated/scipy.sparse.linalg.SuperLU.html"
   ]
  }
 ],
 "metadata": {
  "kernelspec": {
   "display_name": "Python 3",
   "language": "python",
   "name": "python3"
  },
  "language_info": {
   "codemirror_mode": {
    "name": "ipython",
    "version": 3
   },
   "file_extension": ".py",
   "mimetype": "text/x-python",
   "name": "python",
   "nbconvert_exporter": "python",
   "pygments_lexer": "ipython3",
   "version": "3.8.5"
  }
 },
 "nbformat": 4,
 "nbformat_minor": 2
}
