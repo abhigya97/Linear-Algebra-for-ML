{
 "cells": [
  {
   "cell_type": "code",
   "execution_count": 1,
   "metadata": {},
   "outputs": [],
   "source": [
    "import numpy as np\n",
    "from matplotlib import pyplot as plt\n",
    "import sklearn\n",
    "from sklearn import preprocessing\n",
    "from sklearn import datasets"
   ]
  },
  {
   "cell_type": "code",
   "execution_count": 2,
   "metadata": {},
   "outputs": [],
   "source": [
    "#Getting the dataset \n",
    "iris = datasets.load_iris()\n",
    "# we take the first four features .\n",
    "X= iris.data[:, :4]\n",
    "#Transposed data\n",
    "Xt = X.T"
   ]
  },
  {
   "cell_type": "code",
   "execution_count": 3,
   "metadata": {},
   "outputs": [],
   "source": [
    "#Defining pca function for 2 components\n",
    "def MyPCA2D(X):\n",
    "    #Preprocessing the data to get standardized data\n",
    "    sklearn.preprocessing.StandardScaler().fit_transform(X)\n",
    "    #Calculating SVD\n",
    "    U, D, V = np.linalg.svd(X, full_matrices = True)\n",
    "    W = V[:,:2].round(2)\n",
    "    return W"
   ]
  },
  {
   "cell_type": "code",
   "execution_count": 4,
   "metadata": {},
   "outputs": [
    {
     "name": "stdout",
     "output_type": "stream",
     "text": [
      "Shape of Y =  (150, 2)\n"
     ]
    },
    {
     "data": {
      "text/plain": [
       "<matplotlib.collections.PathCollection at 0x1a1ac1acc0>"
      ]
     },
     "execution_count": 4,
     "metadata": {},
     "output_type": "execute_result"
    },
    {
     "data": {
      "image/png": "[encoded data removed]",
      "text/plain": [
       "<Figure size 432x288 with 1 Axes>"
      ]
     },
     "metadata": {
      "needs_background": "light"
     },
     "output_type": "display_data"
    }
   ],
   "source": [
    "#Calculating PCA for X matrix\n",
    "W = MyPCA2D(X)\n",
    "\n",
    "#Plotting the Principal Components\n",
    "Y = X@W\n",
    "print(\"Shape of Y = \", Y.shape)\n",
    "plt.scatter(Y[:, 0], Y[:, 1])\n",
    "#plt.axis('equal');"
   ]
  },
  {
   "cell_type": "code",
   "execution_count": 5,
   "metadata": {},
   "outputs": [],
   "source": [
    "#Defining PCA for transposed X for 2 components\n",
    "def MyPCA2D_transposed(X):\n",
    "    #Preprocessing the data to get standardized data\n",
    "    sklearn.preprocessing.StandardScaler().fit_transform(X)\n",
    "    #Calculating SVD\n",
    "    U, D, V = np.linalg.svd(X, full_matrices = True)\n",
    "    W1 = U[:,:2].round(2)\n",
    "    return W1    "
   ]
  },
  {
   "cell_type": "code",
   "execution_count": 6,
   "metadata": {},
   "outputs": [
    {
     "name": "stdout",
     "output_type": "stream",
     "text": [
      "Shape of Y1 =  (150, 2)\n"
     ]
    },
    {
     "data": {
      "text/plain": [
       "<matplotlib.collections.PathCollection at 0x1a1ad5d940>"
      ]
     },
     "execution_count": 6,
     "metadata": {},
     "output_type": "execute_result"
    },
    {
     "data": {
      "image/png": "[encoded data removed]",
      "text/plain": [
       "<Figure size 432x288 with 1 Axes>"
      ]
     },
     "metadata": {
      "needs_background": "light"
     },
     "output_type": "display_data"
    }
   ],
   "source": [
    "#Calculating PCA for Xt matrix\n",
    "W1 = MyPCA2D_transposed(Xt)\n",
    "\n",
    "#Plotting the Principal Components\n",
    "Y1 = X@W1\n",
    "print(\"Shape of Y1 = \", Y1.shape)\n",
    "plt.scatter(Y1[:, 0], Y1[:, 1])\n",
    "#plt.axis('equal');"
   ]
  }
 ],
 "metadata": {
  "kernelspec": {
   "display_name": "Python 3",
   "language": "python",
   "name": "python3"
  },
  "language_info": {
   "codemirror_mode": {
    "name": "ipython",
    "version": 3
   },
   "file_extension": ".py",
   "mimetype": "text/x-python",
   "name": "python",
   "nbconvert_exporter": "python",
   "pygments_lexer": "ipython3",
   "version": "3.8.5"
  }
 },
 "nbformat": 4,
 "nbformat_minor": 2
}
