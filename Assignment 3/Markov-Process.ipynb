{
 "cells": [
  {
   "cell_type": "code",
   "execution_count": 1,
   "metadata": {},
   "outputs": [],
   "source": [
    "import numpy as np\n",
    "from matplotlib import pyplot as plt"
   ]
  },
  {
   "cell_type": "markdown",
   "metadata": {},
   "source": [
    "# Question 1"
   ]
  },
  {
   "cell_type": "markdown",
   "metadata": {},
   "source": [
    "# Ques 1.a Creating Matrix M"
   ]
  },
  {
   "cell_type": "code",
   "execution_count": 2,
   "metadata": {},
   "outputs": [],
   "source": [
    "M = np.zeros((101,101))\n",
    "\n",
    "for i in range(101):\n",
    "    for j in range(101):\n",
    "        if j == i-1:\n",
    "            M[i][j] = 1/6\n",
    "            \n",
    "        elif j == i-2:\n",
    "            M[i][j] = 1/6\n",
    "            \n",
    "        elif j == i-3:\n",
    "            M[i][j] = 1/6\n",
    "            \n",
    "        elif j == i-4:\n",
    "            M[i][j] = 1/6\n",
    "            \n",
    "        elif j == i-5:\n",
    "            M[i][j] = 1/6\n",
    "            \n",
    "        elif j == i-6:\n",
    "            M[i][j] = 1/6\n",
    "        \n",
    "        if j>94 and i == 100:\n",
    "            M[i][j] += (6-(i-j))*(1/6)\n"
   ]
  },
  {
   "cell_type": "markdown",
   "metadata": {},
   "source": [
    "# Ques 1.b Checking if M is Markov's Matrix"
   ]
  },
  {
   "cell_type": "code",
   "execution_count": 3,
   "metadata": {},
   "outputs": [
    {
     "name": "stdout",
     "output_type": "stream",
     "text": [
      "The result if matrix is markov =  True\n"
     ]
    }
   ],
   "source": [
    "markov = []\n",
    "\n",
    "for j in range(101):\n",
    "    sum = 0\n",
    "    for i in range(101):\n",
    "        sum += M[i][j]\n",
    "    markov.append(round(sum))\n",
    "\n",
    "#Because of fraction values in matrix M, round function is being used.    \n",
    "    \n",
    "result = len(markov) > 0 and all(elem == 1.0 for elem in markov)\n",
    "\n",
    "print(\"The result if matrix is markov = \", result)\n",
    " \n",
    "#References for code to check if all column entries sum upto 1 is:   \n",
    "#https://thispointer.com/python-check-if-all-elements-in-a-list-are-same-or-matches-a-condition/"
   ]
  },
  {
   "cell_type": "markdown",
   "metadata": {},
   "source": [
    "# Ques 1.c Defining Initial state x0"
   ]
  },
  {
   "cell_type": "code",
   "execution_count": 4,
   "metadata": {},
   "outputs": [],
   "source": [
    "x0 = [0]*101\n",
    "x0[0] = 1"
   ]
  },
  {
   "cell_type": "markdown",
   "metadata": {},
   "source": [
    "# Ques 1.d,1.e Defining function to find state after k moves"
   ]
  },
  {
   "cell_type": "code",
   "execution_count": 5,
   "metadata": {},
   "outputs": [],
   "source": [
    "def next_state(x0,k,M):\n",
    "    x_next = []*101\n",
    "    x_next = (np.linalg.matrix_power(M,k))@(x0)\n",
    "    return x_next"
   ]
  },
  {
   "cell_type": "markdown",
   "metadata": {},
   "source": [
    "# Ques 1.f Finding steady state vector"
   ]
  },
  {
   "cell_type": "code",
   "execution_count": 6,
   "metadata": {},
   "outputs": [
    {
     "name": "stdout",
     "output_type": "stream",
     "text": [
      "steady state vector =  [[0.]\n",
      " [0.]\n",
      " [0.]\n",
      " [0.]\n",
      " [0.]\n",
      " [0.]\n",
      " [0.]\n",
      " [0.]\n",
      " [0.]\n",
      " [0.]\n",
      " [0.]\n",
      " [0.]\n",
      " [0.]\n",
      " [0.]\n",
      " [0.]\n",
      " [0.]\n",
      " [0.]\n",
      " [0.]\n",
      " [0.]\n",
      " [0.]\n",
      " [0.]\n",
      " [0.]\n",
      " [0.]\n",
      " [0.]\n",
      " [0.]\n",
      " [0.]\n",
      " [0.]\n",
      " [0.]\n",
      " [0.]\n",
      " [0.]\n",
      " [0.]\n",
      " [0.]\n",
      " [0.]\n",
      " [0.]\n",
      " [0.]\n",
      " [0.]\n",
      " [0.]\n",
      " [0.]\n",
      " [0.]\n",
      " [0.]\n",
      " [0.]\n",
      " [0.]\n",
      " [0.]\n",
      " [0.]\n",
      " [0.]\n",
      " [0.]\n",
      " [0.]\n",
      " [0.]\n",
      " [0.]\n",
      " [0.]\n",
      " [0.]\n",
      " [0.]\n",
      " [0.]\n",
      " [0.]\n",
      " [0.]\n",
      " [0.]\n",
      " [0.]\n",
      " [0.]\n",
      " [0.]\n",
      " [0.]\n",
      " [0.]\n",
      " [0.]\n",
      " [0.]\n",
      " [0.]\n",
      " [0.]\n",
      " [0.]\n",
      " [0.]\n",
      " [0.]\n",
      " [0.]\n",
      " [0.]\n",
      " [0.]\n",
      " [0.]\n",
      " [0.]\n",
      " [0.]\n",
      " [0.]\n",
      " [0.]\n",
      " [0.]\n",
      " [0.]\n",
      " [0.]\n",
      " [0.]\n",
      " [0.]\n",
      " [0.]\n",
      " [0.]\n",
      " [0.]\n",
      " [0.]\n",
      " [0.]\n",
      " [0.]\n",
      " [0.]\n",
      " [0.]\n",
      " [0.]\n",
      " [0.]\n",
      " [0.]\n",
      " [0.]\n",
      " [0.]\n",
      " [0.]\n",
      " [0.]\n",
      " [0.]\n",
      " [0.]\n",
      " [0.]\n",
      " [0.]\n",
      " [1.]]\n"
     ]
    }
   ],
   "source": [
    "#Prinitng the 1000th(infinity) move to calculate xinfinity\n",
    "steady_vector = next_state(x0,1000,M).reshape(-1,1) \n",
    "print(\"steady state vector = \",steady_vector)"
   ]
  },
  {
   "cell_type": "markdown",
   "metadata": {},
   "source": [
    "# Ques 1.g Finding first eigen vector and comparing it to steady state vector"
   ]
  },
  {
   "cell_type": "code",
   "execution_count": 7,
   "metadata": {},
   "outputs": [],
   "source": [
    "l, u = np.linalg.eig(M)\n",
    "first = u[:,:1]"
   ]
  },
  {
   "cell_type": "code",
   "execution_count": 8,
   "metadata": {},
   "outputs": [
    {
     "name": "stdout",
     "output_type": "stream",
     "text": [
      "Is Steady vector = Eigen vector: True\n"
     ]
    }
   ],
   "source": [
    "#To check if first eigen vector and steady vector are same\n",
    "\n",
    "print(\"Is Steady vector = Eigen vector:\", np.allclose(steady_vector,first))"
   ]
  },
  {
   "cell_type": "markdown",
   "metadata": {},
   "source": [
    "# Ques 1.h Probability function for <=k moves"
   ]
  },
  {
   "cell_type": "code",
   "execution_count": 9,
   "metadata": {},
   "outputs": [],
   "source": [
    "def prob(x0,M,k):\n",
    "    xk = next_state(x0,k,M)\n",
    "    pk = xk[100]\n",
    "    return pk   "
   ]
  },
  {
   "cell_type": "code",
   "execution_count": 10,
   "metadata": {},
   "outputs": [
    {
     "name": "stdout",
     "output_type": "stream",
     "text": [
      "Probability of completing in 10 moves:  0\n",
      "Probability of completing in 100 moves:  1\n"
     ]
    }
   ],
   "source": [
    "#Round function is being used because of fraction probabilities in matrix M\n",
    "p10 = prob(x0,M,10)\n",
    "print(\"Probability of completing in 10 moves: \", round(p10))\n",
    "p100 = prob(x0,M,100)\n",
    "print(\"Probability of completing in 100 moves: \", round(p100))"
   ]
  },
  {
   "cell_type": "markdown",
   "metadata": {},
   "source": [
    "Probability of finishing in 10 moves is 0 because the game cannot be finished in 10 moves, whereas game will be finished at a much earlier stage than 100 moves so cummulative probability of finishing it in 100 moves is 1"
   ]
  },
  {
   "cell_type": "markdown",
   "metadata": {},
   "source": [
    "# Ques 1.i Plotting cummulative finish probability "
   ]
  },
  {
   "cell_type": "code",
   "execution_count": 11,
   "metadata": {},
   "outputs": [
    {
     "data": {
      "text/plain": [
       "Text(0.5, 0, 'k moves')"
      ]
     },
     "execution_count": 11,
     "metadata": {},
     "output_type": "execute_result"
    },
    {
     "data": {
      "image/png": "[encoded data removed]",
      "text/plain": [
       "<Figure size 432x288 with 1 Axes>"
      ]
     },
     "metadata": {
      "needs_background": "light"
     },
     "output_type": "display_data"
    }
   ],
   "source": [
    "prob_plot = []\n",
    "\n",
    "for i in range(100):\n",
    "    p = prob(x0,M,i)\n",
    "    prob_plot.append(p)\n",
    "    \n",
    "#print(prob_plot)\n",
    "\n",
    "plt.show()\n",
    "plt.plot(prob_plot)\n",
    "plt.ylabel('Cummulative Probability for <= k moves')\n",
    "plt.xlabel('k moves')\n",
    "\n",
    "    "
   ]
  },
  {
   "cell_type": "markdown",
   "metadata": {},
   "source": [
    "# Ques 1.j Exact probability function"
   ]
  },
  {
   "cell_type": "code",
   "execution_count": 12,
   "metadata": {},
   "outputs": [],
   "source": [
    "def exact_prob(x0,M,k):\n",
    "    pk = prob(x0,M,k)\n",
    "    pk1 = prob(x0,M,(k-1))\n",
    "    return pk - pk1"
   ]
  },
  {
   "cell_type": "markdown",
   "metadata": {},
   "source": [
    "# Ques 1.k Plotting exact probability "
   ]
  },
  {
   "cell_type": "code",
   "execution_count": 13,
   "metadata": {},
   "outputs": [
    {
     "data": {
      "text/plain": [
       "Text(0.5, 0, 'k moves')"
      ]
     },
     "execution_count": 13,
     "metadata": {},
     "output_type": "execute_result"
    },
    {
     "data": {
      "image/png": "[encoded data removed]",
      "text/plain": [
       "<Figure size 432x288 with 1 Axes>"
      ]
     },
     "metadata": {
      "needs_background": "light"
     },
     "output_type": "display_data"
    }
   ],
   "source": [
    "prob_plot1 = []\n",
    "moves = 0\n",
    "for i in range(1,100):\n",
    "    p1 = exact_prob(x0,M,i)\n",
    "    moves += i*p1\n",
    "    prob_plot1.append(p1)  \n",
    "\n",
    "#print(prob_plot1)\n",
    "\n",
    "plt.show()\n",
    "plt.plot(prob_plot1)\n",
    "plt.ylabel('Exact Probability for k moves')\n",
    "plt.xlabel('k moves')"
   ]
  },
  {
   "cell_type": "markdown",
   "metadata": {},
   "source": [
    "# Ques 1.l Expected moves required to finish the game"
   ]
  },
  {
   "cell_type": "code",
   "execution_count": 14,
   "metadata": {},
   "outputs": [
    {
     "name": "stdout",
     "output_type": "stream",
     "text": [
      "Expected number of moves to finish the game =  29\n"
     ]
    }
   ],
   "source": [
    "#Rounding to get exact integer values\n",
    "print(\"Expected number of moves to finish the game = \", round(moves))"
   ]
  },
  {
   "cell_type": "markdown",
   "metadata": {},
   "source": [
    "# Question 2"
   ]
  },
  {
   "cell_type": "markdown",
   "metadata": {},
   "source": [
    "# Ques 2.a Creating Matrix T"
   ]
  },
  {
   "cell_type": "code",
   "execution_count": 15,
   "metadata": {},
   "outputs": [],
   "source": [
    "T = np.zeros((101,101))\n",
    "\n",
    "T[39][1] = 1\n",
    "T[14][4] = 1\n",
    "T[31][9] = 1\n",
    "T[44][36] = 1\n",
    "T[84][28] = 1\n",
    "T[67][51] = 1\n",
    "T[100][80] = 1\n",
    "T[91][71] = 1\n",
    "\n",
    "T[6][16] = 1\n",
    "T[26][47] = 1\n",
    "T[11][49] = 1\n",
    "T[53][56] = 1\n",
    "T[60][64] = 1\n",
    "T[73][92] = 1\n",
    "T[75][95] = 1\n",
    "T[78][98] = 1\n",
    "\n",
    "\n",
    "\n",
    "#For entries with no chutes and ladders\n",
    "for j in range(101):\n",
    "        if np.argmax(T[:,j]) == 0:\n",
    "            T[j][j] = 1       "
   ]
  },
  {
   "cell_type": "markdown",
   "metadata": {},
   "source": [
    "# Ques 2.b Checking if T is Markov's Matrix"
   ]
  },
  {
   "cell_type": "code",
   "execution_count": 16,
   "metadata": {},
   "outputs": [
    {
     "name": "stdout",
     "output_type": "stream",
     "text": [
      "The result if matrix T is markov =  True\n"
     ]
    }
   ],
   "source": [
    "markov1 = []\n",
    "\n",
    "for j in range(101):\n",
    "    sum = 0\n",
    "    for i in range(101):\n",
    "        sum += T[i][j]\n",
    "    markov1.append(sum)\n",
    "\n",
    "    \n",
    "result1 = len(markov1) > 0 and all(elem == 1.0 for elem in markov1)\n",
    "\n",
    "print(\"The result if matrix T is markov = \", result1)"
   ]
  },
  {
   "cell_type": "markdown",
   "metadata": {},
   "source": [
    "# Ques 2.c Finding matrix B = TM"
   ]
  },
  {
   "cell_type": "code",
   "execution_count": 17,
   "metadata": {},
   "outputs": [],
   "source": [
    "B = T@M"
   ]
  },
  {
   "cell_type": "markdown",
   "metadata": {},
   "source": [
    "# Checking if B is a markov matrix"
   ]
  },
  {
   "cell_type": "code",
   "execution_count": 18,
   "metadata": {},
   "outputs": [
    {
     "name": "stdout",
     "output_type": "stream",
     "text": [
      "The result if matrix B is markov =  True\n"
     ]
    }
   ],
   "source": [
    "markov2 = []\n",
    "\n",
    "for j in range(101):\n",
    "    sum = 0\n",
    "    for i in range(101):\n",
    "        sum += B[i][j]\n",
    "    markov2.append(round(sum))\n",
    "\n",
    "#Using round function because of fraction values in matrix M\n",
    "    \n",
    "result2 = len(markov2) > 0 and all(elem == 1.0 for elem in markov2)\n",
    "\n",
    "print(\"The result if matrix B is markov = \", result2)"
   ]
  },
  {
   "cell_type": "markdown",
   "metadata": {},
   "source": [
    "# Ques 2.d Performing tasks c to l in ques 1 on matrix B"
   ]
  },
  {
   "cell_type": "markdown",
   "metadata": {},
   "source": [
    "# Task c Defining Initial state y0"
   ]
  },
  {
   "cell_type": "code",
   "execution_count": 19,
   "metadata": {},
   "outputs": [],
   "source": [
    "y0 = [0]*101\n",
    "y0[0] = 1"
   ]
  },
  {
   "cell_type": "markdown",
   "metadata": {},
   "source": [
    "# Task d,e Defining function to find state after k moves"
   ]
  },
  {
   "cell_type": "code",
   "execution_count": 20,
   "metadata": {},
   "outputs": [],
   "source": [
    "def next_state1(x0,k,B):\n",
    "    x_next = []*101\n",
    "    x_next = (np.linalg.matrix_power(B,k))@(x0)\n",
    "    return x_next"
   ]
  },
  {
   "cell_type": "markdown",
   "metadata": {},
   "source": [
    "# Task f Finding steady state vector"
   ]
  },
  {
   "cell_type": "code",
   "execution_count": 21,
   "metadata": {},
   "outputs": [
    {
     "name": "stdout",
     "output_type": "stream",
     "text": [
      "steady state vector =  [[0.00000000e+00]\n",
      " [0.00000000e+00]\n",
      " [0.00000000e+00]\n",
      " [0.00000000e+00]\n",
      " [0.00000000e+00]\n",
      " [0.00000000e+00]\n",
      " [1.33823623e-49]\n",
      " [2.48789603e-50]\n",
      " [2.95041726e-50]\n",
      " [0.00000000e+00]\n",
      " [3.49892516e-50]\n",
      " [2.88967863e-49]\n",
      " [9.52156604e-50]\n",
      " [8.80381088e-50]\n",
      " [9.97799367e-50]\n",
      " [1.12844805e-49]\n",
      " [0.00000000e+00]\n",
      " [1.27318820e-49]\n",
      " [9.72668754e-50]\n",
      " [9.76482139e-50]\n",
      " [9.94348150e-50]\n",
      " [9.93706538e-50]\n",
      " [9.68656936e-50]\n",
      " [1.14873858e-49]\n",
      " [1.12560232e-49]\n",
      " [1.15403398e-49]\n",
      " [3.84685407e-49]\n",
      " [1.71734774e-49]\n",
      " [0.00000000e+00]\n",
      " [1.67179721e-49]\n",
      " [1.76903830e-49]\n",
      " [2.23855108e-49]\n",
      " [2.09027961e-49]\n",
      " [1.76371734e-49]\n",
      " [1.77233784e-49]\n",
      " [2.10183066e-49]\n",
      " [0.00000000e+00]\n",
      " [1.85289817e-49]\n",
      " [1.78120198e-49]\n",
      " [1.72374179e-49]\n",
      " [1.71631000e-49]\n",
      " [1.70589394e-49]\n",
      " [1.63228591e-49]\n",
      " [1.93574187e-49]\n",
      " [4.13292080e-49]\n",
      " [2.38834794e-49]\n",
      " [2.51190393e-49]\n",
      " [0.00000000e+00]\n",
      " [2.34267134e-49]\n",
      " [0.00000000e+00]\n",
      " [2.11486706e-49]\n",
      " [0.00000000e+00]\n",
      " [1.29567916e-49]\n",
      " [2.78563283e-49]\n",
      " [1.58744560e-49]\n",
      " [1.44704265e-49]\n",
      " [0.00000000e+00]\n",
      " [1.32288835e-49]\n",
      " [1.56882465e-49]\n",
      " [1.61960475e-49]\n",
      " [3.80620547e-49]\n",
      " [1.81531662e-49]\n",
      " [1.88378192e-49]\n",
      " [2.23399315e-49]\n",
      " [0.00000000e+00]\n",
      " [2.11171738e-49]\n",
      " [2.20320534e-49]\n",
      " [3.64488741e-49]\n",
      " [2.24532677e-49]\n",
      " [2.31254107e-49]\n",
      " [2.32714380e-49]\n",
      " [0.00000000e+00]\n",
      " [2.36719342e-49]\n",
      " [3.57410287e-48]\n",
      " [8.36462843e-49]\n",
      " [3.80724883e-48]\n",
      " [1.61503403e-48]\n",
      " [1.87201912e-48]\n",
      " [4.11176988e-48]\n",
      " [2.94044871e-48]\n",
      " [0.00000000e+00]\n",
      " [2.66714134e-48]\n",
      " [2.45518557e-48]\n",
      " [2.61137695e-48]\n",
      " [2.93401781e-48]\n",
      " [2.52987570e-48]\n",
      " [2.45354665e-48]\n",
      " [2.90968204e-48]\n",
      " [2.95477244e-48]\n",
      " [3.04764992e-48]\n",
      " [3.12875681e-48]\n",
      " [3.44093845e-48]\n",
      " [0.00000000e+00]\n",
      " [2.87819947e-48]\n",
      " [2.87234659e-48]\n",
      " [0.00000000e+00]\n",
      " [2.29043863e-48]\n",
      " [2.13458808e-48]\n",
      " [0.00000000e+00]\n",
      " [1.89172633e-48]\n",
      " [1.00000000e+00]]\n"
     ]
    }
   ],
   "source": [
    "#Prinitng the 1000th(infinity) move to calculate xinfinity\n",
    "steady_vector1 = next_state1(y0,1000,B).reshape(-1,1) \n",
    "print(\"steady state vector = \",steady_vector1)"
   ]
  },
  {
   "cell_type": "markdown",
   "metadata": {},
   "source": [
    "# Task g Finding first eigen vector and comparing it to steady state vector"
   ]
  },
  {
   "cell_type": "code",
   "execution_count": 22,
   "metadata": {},
   "outputs": [],
   "source": [
    "l1, u1 = np.linalg.eig(B)\n",
    "first1 = u1[:,:1]"
   ]
  },
  {
   "cell_type": "code",
   "execution_count": 23,
   "metadata": {},
   "outputs": [
    {
     "name": "stdout",
     "output_type": "stream",
     "text": [
      "Is Steady vector = Eigen vector: True\n"
     ]
    }
   ],
   "source": [
    "#To check if first eigen vector and steady vector are same\n",
    "\n",
    "print(\"Is Steady vector = Eigen vector:\", np.allclose(steady_vector1,first1))"
   ]
  },
  {
   "cell_type": "markdown",
   "metadata": {},
   "source": [
    "# Task h Probability function for <=k moves"
   ]
  },
  {
   "cell_type": "code",
   "execution_count": 24,
   "metadata": {},
   "outputs": [],
   "source": [
    "def prob1(x0,B,k):\n",
    "    xk = next_state1(x0,k,B)\n",
    "    pk = xk[100]\n",
    "    return pk   "
   ]
  },
  {
   "cell_type": "code",
   "execution_count": 25,
   "metadata": {},
   "outputs": [
    {
     "name": "stdout",
     "output_type": "stream",
     "text": [
      "Probability of completing in 10 moves:  0.03846110592474047\n",
      "Probability of completing in 100 moves:  0.9996797274489523\n"
     ]
    }
   ],
   "source": [
    "\n",
    "p10 = prob1(y0,B,10)\n",
    "print(\"Probability of completing in 10 moves: \", p10)\n",
    "p100 = prob1(y0,B,100)\n",
    "print(\"Probability of completing in 100 moves: \", p100)"
   ]
  },
  {
   "cell_type": "markdown",
   "metadata": {},
   "source": [
    "Probability of finishing in 10 moves is almost 0 because the game cannot be finished in 10 moves, whereas game will be finished at a much earlier stage than 100 moves so cummulative probability of finishing it in 100 moves is around 1/almost 1"
   ]
  },
  {
   "cell_type": "markdown",
   "metadata": {},
   "source": [
    "# Task i Plotting cummulative finish probability "
   ]
  },
  {
   "cell_type": "code",
   "execution_count": 26,
   "metadata": {},
   "outputs": [
    {
     "data": {
      "text/plain": [
       "Text(0.5, 0, 'k moves')"
      ]
     },
     "execution_count": 26,
     "metadata": {},
     "output_type": "execute_result"
    },
    {
     "data": {
      "image/png": "[encoded data removed]",
      "text/plain": [
       "<Figure size 432x288 with 1 Axes>"
      ]
     },
     "metadata": {
      "needs_background": "light"
     },
     "output_type": "display_data"
    }
   ],
   "source": [
    "prob_plot2 = []\n",
    "\n",
    "for i in range(100):\n",
    "    p = prob1(y0,B,i)\n",
    "    prob_plot2.append(p)\n",
    "    \n",
    "#print(prob_plot)\n",
    "\n",
    "plt.show()\n",
    "plt.plot(prob_plot2)\n",
    "plt.ylabel('Cummulative Probability for <= k moves')\n",
    "plt.xlabel('k moves')   "
   ]
  },
  {
   "cell_type": "markdown",
   "metadata": {},
   "source": [
    "# Task j Exact probability function"
   ]
  },
  {
   "cell_type": "code",
   "execution_count": 27,
   "metadata": {},
   "outputs": [],
   "source": [
    "def exact_prob1(x0,B,k):\n",
    "    pk = prob(x0,B,k)\n",
    "    pk1 = prob(x0,B,(k-1))\n",
    "    return pk - pk1"
   ]
  },
  {
   "cell_type": "markdown",
   "metadata": {},
   "source": [
    "# Task k Plotting exact probability "
   ]
  },
  {
   "cell_type": "code",
   "execution_count": 28,
   "metadata": {},
   "outputs": [
    {
     "data": {
      "text/plain": [
       "Text(0.5, 0, 'k moves')"
      ]
     },
     "execution_count": 28,
     "metadata": {},
     "output_type": "execute_result"
    },
    {
     "data": {
      "image/png": "[encoded data removed]",
      "text/plain": [
       "<Figure size 432x288 with 1 Axes>"
      ]
     },
     "metadata": {
      "needs_background": "light"
     },
     "output_type": "display_data"
    }
   ],
   "source": [
    "prob_plot3 = []\n",
    "moves1 = 0\n",
    "\n",
    "for i in range(1,100):\n",
    "    p1 = exact_prob1(y0,B,i)\n",
    "    moves1 += i*p1\n",
    "    prob_plot3.append(p1)  \n",
    "\n",
    "#print(prob_plot1)\n",
    "\n",
    "plt.show()\n",
    "plt.plot(prob_plot3)\n",
    "plt.ylabel('Exact Probability for k moves')\n",
    "plt.xlabel('k moves')"
   ]
  },
  {
   "cell_type": "markdown",
   "metadata": {},
   "source": [
    "# Task l Expected moves required to finish the game"
   ]
  },
  {
   "cell_type": "code",
   "execution_count": 29,
   "metadata": {},
   "outputs": [
    {
     "name": "stdout",
     "output_type": "stream",
     "text": [
      "Expected number of moves to finish the game =  27\n"
     ]
    }
   ],
   "source": [
    "#Using round function to get exact integer moves\n",
    "print(\"Expected number of moves to finish the game = \", round(moves1))"
   ]
  }
 ],
 "metadata": {
  "kernelspec": {
   "display_name": "Python 3",
   "language": "python",
   "name": "python3"
  },
  "language_info": {
   "codemirror_mode": {
    "name": "ipython",
    "version": 3
   },
   "file_extension": ".py",
   "mimetype": "text/x-python",
   "name": "python",
   "nbconvert_exporter": "python",
   "pygments_lexer": "ipython3",
   "version": "3.8.5"
  }
 },
 "nbformat": 4,
 "nbformat_minor": 2
}
